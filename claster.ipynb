{
 "cells": [
  {
   "cell_type": "code",
   "execution_count": 10,
   "id": "4330cfca-a0f2-44a8-8b04-b36fcd42600f",
   "metadata": {
    "colab": {
     "base_uri": "https://localhost:8080/"
    },
    "id": "4330cfca-a0f2-44a8-8b04-b36fcd42600f",
    "outputId": "15dafec1-fc6a-48f3-d993-0c5e7d32fe59"
   },
   "outputs": [
    {
     "name": "stdout",
     "output_type": "stream",
     "text": [
      "Агаева Эмилия Назимовна -1\n",
      "Бауман Артём Георгиевич -1\n",
      "Вехов Иван Олегович -1\n",
      "Егоров Кирилл Сергеевич -1\n",
      "Килимчук Иван Вячеславович -1\n",
      "Кираев Булат Рустамович -1\n",
      "Козлов Глеб Денисович -1\n",
      "Корнийчук Павел Павлович -1\n",
      "Мирошниченко Никита Игоревич -1\n",
      "Родионова Мария Романовна -1\n",
      "Садыков Артур Маратович -1\n",
      "Сёмин Михаил Максимович -1\n",
      "Циберева Елизавета Кирилловна -1\n",
      "Яранцев Егор Евгеньевич -1\n",
      "Бакланов Владимир -1\n",
      "Виноградова Мария -1\n",
      "Гладков Иван -1\n",
      "Горностаев Геннадий -1\n",
      "Дручук Георгий -1\n",
      "Зайцев Даниил -1\n",
      "Караваева Александра -1\n",
      "Малышев Максим -1\n",
      "Микляева Дарья -1\n",
      "Морозова Мария -1\n",
      "Русанов Эрик -1\n",
      "Тарасюк Екатерина -1\n",
      "Тылык Даниил -1\n",
      "Шипицын Матвей -1\n",
      "Уваров Андрей -1\n"
     ]
    }
   ],
   "source": [
    "import pandas as pd\n",
    "import numpy as np\n",
    "from collections import defaultdict\n",
    "from sklearn.cluster import DBSCAN\n",
    "from sklearn.cluster import KMeans\n",
    "\n",
    "df = pd.read_csv('./datasets/table.csv', low_memory=False)\n",
    "df = df.drop(columns=[\"Github repo\", \"Group\", \"Project\"])\n",
    "names = df.Student[1:]\n",
    "\n",
    "df = df.fillna(-1)\n",
    "\n",
    "for column in ['Unnamed: 15', 'Unnamed: 23']:\n",
    "    df[column] = df[column].astype(str).replace('-1', '0')\n",
    "\n",
    "df.replace(',', '.', regex=True, inplace=True)\n",
    "features = df.values[1:][:, 2:].astype(float)\n",
    "\n",
    "clear_features = []\n",
    "for row in features:\n",
    "    new_row = []\n",
    "    new_row.append(np.sum(row[:6]))\n",
    "    new_row.append(np.sum(row[7:9]))\n",
    "    new_row.append(np.sum(row[10:20]))\n",
    "    new_row.append(np.sum(row[21:]))\n",
    "    clear_features.append(new_row)\n",
    "\n",
    "names = df.values[1:][:, 1]\n",
    "clear_features = np.array(clear_features)\n",
    "clustering = DBSCAN().fit(clear_features)\n",
    "clustering.labels_\n",
    "for name, label in zip(names, clustering.labels_):\n",
    "    print(name, label)"
   ]
  },
  {
   "cell_type": "code",
   "execution_count": 11,
   "id": "sjHfRJAfV4QT",
   "metadata": {
    "colab": {
     "base_uri": "https://localhost:8080/"
    },
    "id": "sjHfRJAfV4QT",
    "outputId": "ef847569-310c-494a-cf10-5b6e06b98bc9"
   },
   "outputs": [
    {
     "name": "stdout",
     "output_type": "stream",
     "text": [
      "Агаева Эмилия Назимовна 0\n",
      "Бауман Артём Георгиевич 0\n",
      "Вехов Иван Олегович 0\n",
      "Егоров Кирилл Сергеевич 2\n",
      "Килимчук Иван Вячеславович 0\n",
      "Кираев Булат Рустамович 0\n",
      "Козлов Глеб Денисович 0\n",
      "Корнийчук Павел Павлович 0\n",
      "Мирошниченко Никита Игоревич 0\n",
      "Родионова Мария Романовна 0\n",
      "Садыков Артур Маратович 1\n",
      "Сёмин Михаил Максимович 0\n",
      "Циберева Елизавета Кирилловна 0\n",
      "Яранцев Егор Евгеньевич 0\n",
      "Бакланов Владимир 1\n",
      "Виноградова Мария 0\n",
      "Гладков Иван 0\n",
      "Горностаев Геннадий 2\n",
      "Дручук Георгий 0\n",
      "Зайцев Даниил 0\n",
      "Караваева Александра 0\n",
      "Малышев Максим 0\n",
      "Микляева Дарья 0\n",
      "Морозова Мария 0\n",
      "Русанов Эрик 0\n",
      "Тарасюк Екатерина 0\n",
      "Тылык Даниил 0\n",
      "Шипицын Матвей 0\n",
      "Уваров Андрей 0\n"
     ]
    },
    {
     "name": "stderr",
     "output_type": "stream",
     "text": [
      "/usr/local/lib/python3.10/dist-packages/sklearn/cluster/_kmeans.py:870: FutureWarning: The default value of `n_init` will change from 10 to 'auto' in 1.4. Set the value of `n_init` explicitly to suppress the warning\n",
      "  warnings.warn(\n"
     ]
    },
    {
     "data": {
      "text/plain": [
       "array([[ 4. ,  2. ,  7. ,  1. ],\n",
       "       [ 2.5,  2. ,  3. ,  2. ],\n",
       "       [ 6. ,  2. ,  7. ,  2. ],\n",
       "       [-6. , -2. , -8. , -2. ],\n",
       "       [ 5. ,  2. ,  6. ,  2. ],\n",
       "       [ 6. ,  2. ,  7. ,  2. ],\n",
       "       [ 5. ,  2. ,  7. ,  2. ],\n",
       "       [ 4.5,  2. ,  6.5, -2. ],\n",
       "       [ 5.5,  2. ,  6. ,  4. ],\n",
       "       [ 5. ,  2. ,  8. ,  2. ],\n",
       "       [ 6. , -2. , -8. , -2. ],\n",
       "       [ 4.5,  2. ,  5. ,  0. ],\n",
       "       [ 5. ,  2. ,  6.5,  4. ],\n",
       "       [ 5. ,  2. ,  6. , -1. ],\n",
       "       [ 2.5,  2. , -8. , -2. ],\n",
       "       [ 4. ,  2. ,  6. ,  3. ],\n",
       "       [ 4. ,  2. ,  6. ,  2. ],\n",
       "       [-6. , -2. , -8. , -4. ],\n",
       "       [ 6. ,  2. ,  8. ,  4. ],\n",
       "       [ 4. ,  2. ,  7. ,  4. ],\n",
       "       [ 4. ,  2. ,  7. ,  4. ],\n",
       "       [ 4. ,  2. ,  6. ,  4. ],\n",
       "       [ 5. ,  2. ,  7. ,  4. ],\n",
       "       [ 6. ,  2. ,  8. ,  4. ],\n",
       "       [ 6. ,  2. ,  4.5,  0. ],\n",
       "       [ 5. ,  2. ,  7.5,  2. ],\n",
       "       [ 4. ,  1.5,  8. ,  2. ],\n",
       "       [ 6. ,  2. ,  7. ,  1. ],\n",
       "       [ 6. ,  1.5,  9. , -0.5]])"
      ]
     },
     "execution_count": 11,
     "metadata": {},
     "output_type": "execute_result"
    }
   ],
   "source": [
    "kmeans = KMeans(n_clusters=3, random_state=0).fit(clear_features)\n",
    "kmeans.labels_\n",
    "for name, label in zip(names, kmeans.labels_):\n",
    "    print(name, label)\n",
    "clear_features"
   ]
  }
 ],
 "metadata": {
  "colab": {
   "provenance": []
  },
  "kernelspec": {
   "display_name": "Python 3 (ipykernel)",
   "language": "python",
   "name": "python3"
  },
  "language_info": {
   "codemirror_mode": {
    "name": "ipython",
    "version": 3
   },
   "file_extension": ".py",
   "mimetype": "text/x-python",
   "name": "python",
   "nbconvert_exporter": "python",
   "pygments_lexer": "ipython3",
   "version": "3.11.4"
  }
 },
 "nbformat": 4,
 "nbformat_minor": 5
}
